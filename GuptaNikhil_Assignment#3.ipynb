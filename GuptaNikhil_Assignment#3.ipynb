{
 "cells": [
  {
   "cell_type": "code",
   "execution_count": null,
   "metadata": {},
   "outputs": [],
   "source": [
    "import sqlite3\n",
    "import time\n",
    "con = sqlite3.connect('database.sqlite')\n",
    "cursorObj = con.cursor()"
   ]
  },
  {
   "cell_type": "code",
   "execution_count": null,
   "metadata": {},
   "outputs": [],
   "source": [
    "#Question 1 Write a SQL query that lists all the players born between 1987 and 1990\n",
    "#inclusive, sort them from the oldest to the youngest. The output of this query should be of the form:\n",
    "#Player Name | Birthday"
   ]
  },
  {
   "cell_type": "code",
   "execution_count": null,
   "metadata": {},
   "outputs": [],
   "source": [
    "t = time.process_time()\n",
    "cursorObj.execute(\"\"\"\n",
    "SELECT player_name AS 'Player Name', \n",
    "       birthday    AS 'Birthday' \n",
    "FROM   player \n",
    "WHERE  birthday BETWEEN '1987-01-01' AND '1990-12-31' \n",
    "ORDER  BY birthday \n",
    ";\"\"\")\n",
    "rows = cursorObj.fetchall() \n",
    "for row in rows: ## Let's show all the rows\n",
    "  print(row)\n",
    "t1_sql = time.process_time() - t"
   ]
  },
  {
   "cell_type": "code",
   "execution_count": null,
   "metadata": {},
   "outputs": [],
   "source": [
    "#Question 2 (20 points) : Write a SQL query that ranks all countries and leagues based on the total\n",
    "#amount of total goals scored per game in the whole dataset. Sort them by the largest to the smallest\n",
    "#amount of goals. Note: Read this carefully. The output of this query should be of the form:\n",
    "#Country | League Name |Total Goals Scored"
   ]
  },
  {
   "cell_type": "code",
   "execution_count": null,
   "metadata": {},
   "outputs": [],
   "source": [
    "t = time.process_time()\n",
    "cursorObj.execute(\"\"\"\n",
    "SELECT c.NAME, \n",
    "       l.NAME, \n",
    "       Sum(home_team_goal + away_team_goal) AS Goals \n",
    "FROM   match m, \n",
    "       league l, \n",
    "       country c \n",
    "WHERE  m.league_id = l.id \n",
    "       AND m.country_id = c.id \n",
    "GROUP  BY c.NAME, \n",
    "          l.NAME \n",
    "ORDER  BY goals DESC \n",
    ";\"\"\")\n",
    "rows = cursorObj.fetchall() \n",
    "for row in rows: ## Let's show all the rows\n",
    "  print(row)\n",
    "t2_sql = time.process_time() - t"
   ]
  },
  {
   "cell_type": "code",
   "execution_count": null,
   "metadata": {},
   "outputs": [],
   "source": [
    "#Question 3 Write a SQL query that ranks all teams by the average of all their attributes (not\n",
    "#the players' attributes), sort them from best to worst. The output of this query should be of the form:\n",
    "#Team Long Name | Average of Attributes"
   ]
  },
  {
   "cell_type": "code",
   "execution_count": null,
   "metadata": {},
   "outputs": [],
   "source": [
    "t = time.process_time()\n",
    "cursorObj.execute(\"\"\"\n",
    "SELECT c.team_long_name, \n",
    "       Avg(some) AS 'Average_of_Attributes' \n",
    "FROM   (SELECT a.team_long_name, \n",
    "               Ifnull(b.buildupplayspeed, '0') \n",
    "               + Ifnull(b.buildupplaydribbling, '0') \n",
    "               + Ifnull(b.buildupplaypassing, '0') \n",
    "               + Ifnull(b.chancecreationpassing, '0') \n",
    "               + Ifnull(b.chancecreationcrossing, '0') \n",
    "               + Ifnull(b.chancecreationshooting, '0') \n",
    "               + Ifnull(b.defencepressure, '0') \n",
    "               + Ifnull(b.defenceaggression, '0') \n",
    "               + Ifnull(b.defenceteamwidth, '0') AS 'some' \n",
    "        FROM   team AS a, \n",
    "               team_attributes AS b \n",
    "        WHERE  a.team_fifa_api_id = b.team_fifa_api_id) AS c \n",
    "GROUP  BY c.team_long_name \n",
    "ORDER  BY average_of_attributes DESC\n",
    ";\"\"\")\n",
    "rows = cursorObj.fetchall() \n",
    "for row in rows: ## Let's show all the rows\n",
    "  print(row)\n",
    "t3_sql = time.process_time() - t"
   ]
  },
  {
   "cell_type": "code",
   "execution_count": null,
   "metadata": {},
   "outputs": [],
   "source": [
    "#Question 4 (20 points) : Write a SQL query that ranks all teams by the average of their players' attributes, sort them by \n",
    "#descending order displaying only the top 5. The output of this query should be of the form:\n",
    "#Team Name| Number of Players | Player Attribute Average"
   ]
  },
  {
   "cell_type": "code",
   "execution_count": null,
   "metadata": {},
   "outputs": [],
   "source": [
    "#Player attributes make team attributes\n",
    "t = time.process_time()\n",
    "cursorObj.execute(\"\"\"\n",
    "SELECT  overall_rating + potential + crossing + finishing + \n",
    "\t\t\theading_accuracy + short_passing, + volleys +\n",
    "\t\t\tdribbling + curve + free_kick_accuracy + long_passing +\n",
    "\t\t\tball_control + acceleration + sprint_speed + agility +\n",
    "\t\t\treactions + balance + shot_power + jumping + stamina +\n",
    "\t\t\tstrength + long_shots + aggression + interceptions +\n",
    "\t\t\tpositioning + vision + penalties + marking +\n",
    "\t\t\tstanding_tackle + sliding_tackle + gk_diving + gk_reflexes + \n",
    "\t\t\tgk_handling + gk_kicking + gk_positioning as Attribute\n",
    "FROM Player_Attributes\n",
    "ORDER BY Attribute DESC\n",
    "LIMIT 5\n",
    ";\"\"\")\n",
    "rows = cursorObj.fetchall() \n",
    "for row in rows: ## Let's show all the rows\n",
    "  print(row)\n",
    "t4_sql = time.process_time() - t"
   ]
  },
  {
   "cell_type": "code",
   "execution_count": null,
   "metadata": {},
   "outputs": [],
   "source": [
    "#Question 5 (40 points) : Write a SINGLE SQL query that finds the date that had the most goals scored on,\n",
    "#per each different season and league. The output of this query should be of the form:\n",
    "#Date (dd/mm/yy) | Season | League Name | Goals scored"
   ]
  },
  {
   "cell_type": "code",
   "execution_count": null,
   "metadata": {},
   "outputs": [],
   "source": [
    "t = time.process_time()\n",
    "cursorObj.execute(\"\"\"\n",
    "SELECT date, \n",
    "       season, \n",
    "       ln, \n",
    "       Max(goals) \n",
    "FROM   (SELECT Strftime('%d/%m/%Y', m.date)         AS Date, \n",
    "               m.season                             AS 'Season', \n",
    "               l.NAME                               AS 'LN', \n",
    "               Sum(home_team_goal + away_team_goal) AS Goals \n",
    "        FROM   match m, \n",
    "               league l \n",
    "        WHERE  m.league_id = l.id \n",
    "        GROUP  BY m.date, \n",
    "                  l.NAME, \n",
    "                  m.season \n",
    "        ORDER  BY goals DESC) \n",
    "GROUP  BY ln, \n",
    "          season \n",
    "ORDER  BY goals DESC \n",
    ";\"\"\")\n",
    "rows = cursorObj.fetchall() \n",
    "for row in rows: ## Let's show all the rows\n",
    "  print(row)\n",
    "t5_sql = time.process_time() - t"
   ]
  },
  {
   "cell_type": "code",
   "execution_count": null,
   "metadata": {},
   "outputs": [],
   "source": [
    "#Question:6 Graduate Student Task (40 points) : Write a SINGLE SQL query that finds the top 5 teams in terms of\n",
    "#goals scored PER league for the 2008/2009 season. The output of this query should be of the form:\n",
    "#Season | League | Rank | Team Name | Goals Scored"
   ]
  },
  {
   "cell_type": "code",
   "execution_count": null,
   "metadata": {
    "scrolled": false
   },
   "outputs": [],
   "source": [
    "t = time.process_time()\n",
    "cursorObj.execute(\"\"\"\n",
    "SELECT * \n",
    "FROM   (SELECT AL.season, \n",
    "               AL.league, \n",
    "               Rank() \n",
    "                 OVER ( \n",
    "                   partition BY AL.league \n",
    "                   ORDER BY totalgoals DESC) 'TeamRank', \n",
    "               AL.team, \n",
    "               AL.totalgoals \n",
    "        FROM   (SELECT Scores.season, \n",
    "                       Scores.team, \n",
    "                       Scores.league, \n",
    "                       Sum(Scores.goals) AS TotalGoals \n",
    "                FROM   (SELECT m.season            AS Season, \n",
    "                               t.team_long_name    AS 'Team', \n",
    "                               l.NAME              AS 'League', \n",
    "                               Sum(home_team_goal) AS Goals, \n",
    "                               'Home'              AS 'Location' \n",
    "                        FROM   match m, \n",
    "                               team t, \n",
    "                               league l \n",
    "                        WHERE  m.home_team_api_id = t.team_api_id \n",
    "                               AND m.country_id = l.country_id \n",
    "                               AND m.season = '2008/2009' \n",
    "                        GROUP  BY l.NAME, \n",
    "                                  t.team_long_name \n",
    "                        UNION \n",
    "                        SELECT m.season            AS Season, \n",
    "                               t.team_long_name    AS 'Team', \n",
    "                               l.NAME              AS 'League', \n",
    "                               Sum(away_team_goal) AS Goals, \n",
    "                               'Away'              AS 'Location' \n",
    "                        FROM   match m, \n",
    "                               team t, \n",
    "                               league l \n",
    "                        WHERE  m.away_team_api_id = t.team_api_id \n",
    "                               AND m.country_id = l.country_id \n",
    "                               AND m.season = '2008/2009' \n",
    "                        GROUP  BY l.NAME, \n",
    "                                  t.team_long_name) AS Scores \n",
    "                GROUP  BY Scores.league, \n",
    "                          Scores.team) AS AL) AS TR \n",
    "WHERE  TR.teamrank < 6 \n",
    "ORDER  BY TR.teamrank    \n",
    ";\"\"\")\n",
    "rows = cursorObj.fetchall() \n",
    "for row in rows: ## Let's show all the rows\n",
    "  print(row)\n",
    "t6_sql = time.process_time() - t"
   ]
  },
  {
   "cell_type": "code",
   "execution_count": null,
   "metadata": {},
   "outputs": [],
   "source": [
    "#Execution time of SQL queries #seconds\n",
    "print(t1_sql)\n",
    "print(t2_sql)\n",
    "print(t3_sql)\n",
    "print(t4_sql)\n",
    "print(t5_sql)\n",
    "print(t6_sql)"
   ]
  },
  {
   "cell_type": "code",
   "execution_count": null,
   "metadata": {},
   "outputs": [],
   "source": [
    "#Pyspark Session\n",
    "from pyspark.sql import SparkSession\n",
    "import re\n",
    "spark = SparkSession.builder \\\n",
    "    .master(\"local[*]\") \\\n",
    "    .appName(\"Learning_Spark\") \\\n",
    "    .getOrCreate()\n",
    "sc = spark.sparkContext"
   ]
  },
  {
   "cell_type": "code",
   "execution_count": null,
   "metadata": {},
   "outputs": [],
   "source": [
    "import pandas as pd\n",
    "conn = sqlite3.connect(\"database.sqlite\")\n",
    "df_team = pd.read_sql_query(\"SELECT* FROM Team\", conn)\n",
    "df_player = pd.read_sql_query(\"SELECT* FROM Player\", conn)\n",
    "df_team_a = pd.read_sql_query(\"SELECT* FROM Team_Attributes\", conn)\n",
    "df_player_a = pd.read_sql_query(\"SELECT* FROM Player_Attributes\", conn)\n",
    "df_Country = pd.read_sql_query(\"SELECT* FROM Country\", conn)\n",
    "df_League = pd.read_sql_query(\"SELECT* FROM League\", conn)\n",
    "df_Match = pd.read_sql_query(\"SELECT* FROM Match\", conn)"
   ]
  }
 ],
 "metadata": {
  "kernelspec": {
   "display_name": "Python 3",
   "language": "python",
   "name": "python3"
  },
  "language_info": {
   "codemirror_mode": {
    "name": "ipython",
    "version": 3
   },
   "file_extension": ".py",
   "mimetype": "text/x-python",
   "name": "python",
   "nbconvert_exporter": "python",
   "pygments_lexer": "ipython3",
   "version": "3.7.3"
  }
 },
 "nbformat": 4,
 "nbformat_minor": 2
}
